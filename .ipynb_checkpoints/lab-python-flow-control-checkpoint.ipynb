{
 "cells": [
  {
   "cell_type": "markdown",
   "metadata": {
    "tags": []
   },
   "source": [
    "# Lab | Flow Control"
   ]
  },
  {
   "cell_type": "markdown",
   "metadata": {},
   "source": [
    "## Exercise: Managing Customer Orders Optimized\n",
    "\n",
    "In the last lab, you were starting an online store that sells various products. To ensure smooth operations, you developed a program that manages customer orders and inventory.\n",
    "\n",
    "You did so without using flow control. Let's go a step further and improve this code.\n",
    "\n",
    "Follow the steps below to complete the exercise:\n",
    "\n",
    "1. Look at your code from the lab data structures, and improve repeated code with loops.\n",
    "\n",
    "2. Instead of asking the user to input the name of three products that a customer wants to order, do the following:\n",
    "    \n",
    "    a. Prompt the user to enter the name of a product that a customer wants to order.\n",
    "    \n",
    "    b. Add the product name to the \"customer_orders\" set.\n",
    "    \n",
    "    c. Ask the user if they want to add another product (yes/no).\n",
    "    \n",
    "    d. Continue the loop until the user does not want to add another product.\n",
    "\n",
    "3. Instead of updating the inventory by subtracting 1 from the quantity of each product, only do it for  the products that were ordered (those in \"customer_orders\")."
   ]
  },
  {
   "cell_type": "markdown",
   "metadata": {},
   "source": [
    "## Solution"
   ]
  },
  {
   "cell_type": "code",
   "execution_count": 2,
   "metadata": {},
   "outputs": [
    {
     "name": "stdout",
     "output_type": "stream",
     "text": [
      "t-shirt\n",
      "Please enter the quantity: 12\n",
      "mug\n",
      "Please enter the quantity: 23\n",
      "hat\n",
      "Please enter the quantity: 10\n",
      "book\n",
      "Please enter the quantity: 13\n",
      "keychain\n",
      "Please enter the quantity: 23\n",
      "Value stored in inventory is:  {'t-shirt': '23', 'mug': '23', 'hat': '23', 'book': '23', 'keychain': '23'}\n"
     ]
    }
   ],
   "source": [
    "# Create the data, take input from customer and store it as a dictionary \n",
    "products = [\"t-shirt\", \"mug\", \"hat\", \"book\", \"keychain\"]\n",
    "user_quanti = []\n",
    "i = 1\n",
    "while i < 6:\n",
    "    for item in products:\n",
    "        print(item)\n",
    "        quanti = input(\"Please enter the quantity: \")\n",
    "        user_quanti.append(quanti)\n",
    "    break\n",
    "\n",
    "\n",
    "inventory = {}\n",
    "for key in products:\n",
    "    for value in user_quanti:\n",
    "        inventory[key] = value\n",
    "        \n",
    "# Display inventory dictionary (data)\n",
    "print(\"Value stored in inventory is: \", inventory)"
   ]
  },
  {
   "cell_type": "code",
   "execution_count": 14,
   "metadata": {},
   "outputs": [
    {
     "name": "stdout",
     "output_type": "stream",
     "text": [
      "What product would you like to order?: Book 2\n",
      "Would you like to continue your order?, 'yes/no': yes\n",
      "What product would you like to order?: Pen\n",
      "Would you like to continue your order?, 'yes/no': yes\n",
      "What product would you like to order?: Bag\n",
      "Would you like to continue your order?, 'yes/no': no\n",
      "\n",
      "Thanks for your order, we will process your order as soon as possible.\n",
      "\n",
      "Customer orders data is:  {'Bag', 'Book 2', 'Pen'}\n"
     ]
    }
   ],
   "source": [
    "customer_order = []\n",
    "\n",
    "ask = \"yes\"\n",
    "while ask != \"no\":\n",
    "    cust_input = input(\"What product would you like to order?: \")\n",
    "    customer_order.append(cust_input)\n",
    "    ask = input(\"Would you like to continue your order?, 'yes/no': \")\n",
    "print()\n",
    "print(\"Thanks for your order, we will process your order as soon as possible.\")\n",
    "\n",
    "print()\n",
    "# Change the datatype from list to set()\n",
    "customer_orders = set(customer_order)\n",
    "print(\"Customer orders data is: \", customer_orders)"
   ]
  },
  {
   "cell_type": "code",
   "execution_count": 18,
   "metadata": {},
   "outputs": [
    {
     "name": "stdout",
     "output_type": "stream",
     "text": [
      "Final customer order is:  {'Book 2', 'Bag'}\n"
     ]
    }
   ],
   "source": [
    "# Updating customer orders output\n",
    "list_customer_orders = list(customer_orders)\n",
    "# Removing the last element and cast it into set\n",
    "set_customer_odrers = set(list_customer_orders[:-1])\n",
    "print(\"Final customer order is: \", set_customer_odrers) "
   ]
  }
 ],
 "metadata": {
  "kernelspec": {
   "display_name": "Python 3",
   "language": "python",
   "name": "python3"
  },
  "language_info": {
   "codemirror_mode": {
    "name": "ipython",
    "version": 3
   },
   "file_extension": ".py",
   "mimetype": "text/x-python",
   "name": "python",
   "nbconvert_exporter": "python",
   "pygments_lexer": "ipython3",
   "version": "3.6.8"
  }
 },
 "nbformat": 4,
 "nbformat_minor": 5
}
